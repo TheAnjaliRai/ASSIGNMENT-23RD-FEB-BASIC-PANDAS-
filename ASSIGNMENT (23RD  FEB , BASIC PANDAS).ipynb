{
 "cells": [
  {
   "cell_type": "code",
   "execution_count": 1,
   "id": "c454cfb4",
   "metadata": {},
   "outputs": [
    {
     "name": "stdout",
     "output_type": "stream",
     "text": [
      "0     4\n",
      "1     8\n",
      "2    15\n",
      "3    16\n",
      "4    23\n",
      "5    42\n",
      "dtype: int64\n",
      "<class 'pandas.core.series.Series'>\n"
     ]
    }
   ],
   "source": [
    "# ques1\n",
    "import pandas as pd\n",
    "li = [4,8,15,16,23,42]\n",
    "ps = pd.Series(li)\n",
    "print(ps)\n",
    "print(type(ps))"
   ]
  },
  {
   "cell_type": "code",
   "execution_count": 2,
   "id": "c07f6437",
   "metadata": {},
   "outputs": [
    {
     "name": "stdout",
     "output_type": "stream",
     "text": [
      "0    0\n",
      "1    1\n",
      "2    2\n",
      "3    3\n",
      "4    4\n",
      "5    5\n",
      "6    6\n",
      "7    7\n",
      "8    8\n",
      "9    9\n",
      "dtype: int64\n",
      "<class 'pandas.core.series.Series'>\n"
     ]
    }
   ],
   "source": [
    "# ques2\n",
    "li2 = list(range(10))\n",
    "ps1 = pd.Series(li2)\n",
    "print(ps1)\n",
    "print(type(ps))"
   ]
  },
  {
   "cell_type": "code",
   "execution_count": 10,
   "id": "1b974601",
   "metadata": {},
   "outputs": [
    {
     "name": "stdout",
     "output_type": "stream",
     "text": [
      " Name  Age Gender\n",
      "Alice   25 Female\n",
      "  Bob   30   Male\n",
      "Clair   27 Female\n"
     ]
    }
   ],
   "source": [
    "# ques3\n",
    "data = [[\"Alice\" , 25 , \"Female\"],\n",
    "        [\"Bob\" , 30 , \"Male\"],\n",
    "        [\"Clair\" , 27 , \"Female\"]]\n",
    "df = pd.DataFrame(data , columns = [\"Name\" , \"Age\" , \"Gender\"])\n",
    "print(df.to_string(index = False))"
   ]
  },
  {
   "cell_type": "code",
   "execution_count": 11,
   "id": "c9ccab3b",
   "metadata": {},
   "outputs": [],
   "source": [
    "# ques4\n",
    "# dataFrame is a 2-dimensional labeled data structure with columns of potentially different types\n",
    "# pandas.series is one dimensional and element are homogeneous , index is defined\n",
    "# for dataframe - index is optional , elements can be heterogeneous"
   ]
  },
  {
   "cell_type": "code",
   "execution_count": 12,
   "id": "e5495b55",
   "metadata": {},
   "outputs": [
    {
     "name": "stdout",
     "output_type": "stream",
     "text": [
      "0     4\n",
      "1     8\n",
      "2    15\n",
      "3    16\n",
      "4    23\n",
      "5    42\n",
      "dtype: int64\n",
      " Name  Age Gender\n",
      "Alice   25 Female\n",
      "  Bob   30   Male\n",
      "Clair   27 Female\n"
     ]
    }
   ],
   "source": [
    "# examples\n",
    "\n",
    "import pandas as pd\n",
    "li = [4,8,15,16,23,42]\n",
    "ps = pd.Series(li)\n",
    "print(ps)\n",
    "data = [[\"Alice\" , 25 , \"Female\"],\n",
    "        [\"Bob\" , 30 , \"Male\"],\n",
    "        [\"Clair\" , 27 , \"Female\"]]\n",
    "df = pd.DataFrame(data , columns = [\"Name\" , \"Age\" , \"Gender\"])\n",
    "print(df.to_string(index = False))"
   ]
  },
  {
   "cell_type": "code",
   "execution_count": 24,
   "id": "7b0210a2",
   "metadata": {},
   "outputs": [
    {
     "name": "stdout",
     "output_type": "stream",
     "text": [
      "     NAME\n",
      "0  ANJALI\n",
      "1   ARYAN\n",
      "2   RITIK\n"
     ]
    }
   ],
   "source": [
    "# ques5\n",
    "# dropping columns in the data\n",
    "# dropping rows in the data\n",
    "# renaming a column in the dataset\n",
    "# etc\n",
    "\n",
    "# example\n",
    "data = {'NAME' : ['ANJALI' , 'ARYAN' , 'RITIK'] , \n",
    "       'AGE' : [20 , 20 , 22] , \n",
    "       'GENDER' : ['FEMALE' , 'MALE' , 'MALE']}\n",
    "df1 = pd.DataFrame(data)\n",
    "df1.drop(['AGE' , 'GENDER'] , axis = 1 , inplace = True)\n",
    "print(df1)\n"
   ]
  },
  {
   "cell_type": "code",
   "execution_count": null,
   "id": "231b6e53",
   "metadata": {},
   "outputs": [],
   "source": [
    "# ques6\n",
    "# all data structures are value mutable.\n",
    "# all data structures in pandas are sixe mutable except series"
   ]
  },
  {
   "cell_type": "code",
   "execution_count": 25,
   "id": "56c12ae0",
   "metadata": {},
   "outputs": [
    {
     "name": "stdout",
     "output_type": "stream",
     "text": [
      "        0   1       2\n",
      "0  anjali  20  female\n",
      "1  bulbul  22  female\n"
     ]
    }
   ],
   "source": [
    "name = pd.Series([\"anjali\" , \"bulbul\"])\n",
    "age = pd.Series([20 , 22])\n",
    "gender = pd.Series([\"female\" , \"female\"])\n",
    "df = pd.concat([name , age , gender], axis = 1)\n",
    "print(df)\n"
   ]
  },
  {
   "cell_type": "code",
   "execution_count": null,
   "id": "fe0dd851",
   "metadata": {},
   "outputs": [],
   "source": []
  }
 ],
 "metadata": {
  "kernelspec": {
   "display_name": "Python 3 (ipykernel)",
   "language": "python",
   "name": "python3"
  },
  "language_info": {
   "codemirror_mode": {
    "name": "ipython",
    "version": 3
   },
   "file_extension": ".py",
   "mimetype": "text/x-python",
   "name": "python",
   "nbconvert_exporter": "python",
   "pygments_lexer": "ipython3",
   "version": "3.10.9"
  }
 },
 "nbformat": 4,
 "nbformat_minor": 5
}
